{
 "cells": [
  {
   "cell_type": "code",
   "execution_count": 8,
   "metadata": {},
   "outputs": [],
   "source": [
    "import binascii\n",
    "\n",
    "# Hex messages\n",
    "msg1_hex = (\"d131dd02c5e6eec4693d9a0698aff95c2fcab58712467eab4004583eb8fb7f89\"\n",
    "            \"55ad340609f4b30283e488832571415a085125e8f7cdc99fd91dbdf280373c5b\"\n",
    "            \"d8823e3156348f5bae6dacd436c919c6dd53e2b487da03fd02396306d248cda0\"\n",
    "            \"e99f33420f577ee8ce54b67080a80d1ec69821bcb6a8839396f9652b6ff72a70\")\n",
    "\n",
    "msg2_hex = (\"d131dd02c5e6eec4693d9a0698aff95c2fcab50712467eab4004583eb8fb7f89\"\n",
    "            \"55ad340609f4b30283e4888325f1415a085125e8f7cdc99fd91dbd7280373c5b\"\n",
    "            \"d8823e3156348f5bae6dacd436c919c6dd53e23487da03fd02396306d248cda0\"\n",
    "            \"e99f33420f577ee8ce54b67080280d1ec69821bcb6a8839396f965ab6ff72a70\")\n",
    "\n",
    "# Write binary files\n",
    "with open(\"file1.bin\", \"wb\") as f1:\n",
    "    f1.write(binascii.unhexlify(msg1_hex))\n",
    "\n",
    "with open(\"file2.bin\", \"wb\") as f2:\n",
    "    f2.write(binascii.unhexlify(msg2_hex))\n"
   ]
  },
  {
   "cell_type": "code",
   "execution_count": 9,
   "metadata": {},
   "outputs": [
    {
     "name": "stdout",
     "output_type": "stream",
     "text": [
      "MD5 Hash of file1: 79054025255fb1a26e4bc422aef54eb4\n",
      "MD5 Hash of file2: 79054025255fb1a26e4bc422aef54eb4\n"
     ]
    }
   ],
   "source": [
    "import hashlib\n",
    "\n",
    "def md5_hash(filename):\n",
    "    with open(filename, \"rb\") as f:\n",
    "        file_hash = hashlib.md5(f.read()).hexdigest()\n",
    "    return file_hash\n",
    "\n",
    "# Calculate MD5 hashes\n",
    "md5_file1 = md5_hash(\"file1.bin\")\n",
    "md5_file2 = md5_hash(\"file2.bin\")\n",
    "\n",
    "print(\"MD5 Hash of file1:\", md5_file1)\n",
    "print(\"MD5 Hash of file2:\", md5_file2)\n"
   ]
  },
  {
   "cell_type": "code",
   "execution_count": 10,
   "metadata": {},
   "outputs": [
    {
     "name": "stdout",
     "output_type": "stream",
     "text": [
      "SHA-256 Hash of file1: 8d12236e5c4ed9f4e790db4d868fd5c399df267e18ff65c1107c328228cffc98\n",
      "SHA-256 Hash of file2: b9fef2a8fc93b05e7701e97196fda6c4fbeea25ff8e64fdfee7015eca8fa617d\n"
     ]
    }
   ],
   "source": [
    "def sha256_hash(filename):\n",
    "    with open(filename, \"rb\") as f:\n",
    "        file_hash = hashlib.sha256(f.read()).hexdigest()\n",
    "    return file_hash\n",
    "\n",
    "# Calculate SHA-256 hashes\n",
    "sha256_file1 = sha256_hash(\"file1.bin\")\n",
    "sha256_file2 = sha256_hash(\"file2.bin\")\n",
    "\n",
    "print(\"SHA-256 Hash of file1:\", sha256_file1)\n",
    "print(\"SHA-256 Hash of file2:\", sha256_file2)\n"
   ]
  },
  {
   "cell_type": "markdown",
   "metadata": {},
   "source": [
    " # 3.2: Generate Your Own Collision"
   ]
  },
  {
   "cell_type": "code",
   "execution_count": 13,
   "metadata": {},
   "outputs": [
    {
     "ename": "SyntaxError",
     "evalue": "Missing parentheses in call to 'print'. Did you mean print(...)? (3968188023.py, line 7)",
     "output_type": "error",
     "traceback": [
      "\u001b[1;36m  Cell \u001b[1;32mIn[13], line 7\u001b[1;36m\u001b[0m\n\u001b[1;33m    print sha256(blob).hexdigest()\u001b[0m\n\u001b[1;37m    ^\u001b[0m\n\u001b[1;31mSyntaxError\u001b[0m\u001b[1;31m:\u001b[0m Missing parentheses in call to 'print'. Did you mean print(...)?\n"
     ]
    }
   ],
   "source": [
    "#!/usr/bin/python\n",
    "# -*- coding: utf-8 -*-\n",
    "blob = \"\"\"\n",
    "and put these three lines into a file called suffix: \n",
    "\"\"\"\n",
    "from hashlib import sha256\n",
    "print sha256(blob).hexdigest()\n"
   ]
  },
  {
   "cell_type": "code",
   "execution_count": null,
   "metadata": {},
   "outputs": [],
   "source": []
  }
 ],
 "metadata": {
  "kernelspec": {
   "display_name": "base",
   "language": "python",
   "name": "python3"
  },
  "language_info": {
   "name": "python",
   "version": "3.12.4"
  }
 },
 "nbformat": 4,
 "nbformat_minor": 2
}
