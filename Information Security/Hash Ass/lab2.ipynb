{
 "cells": [
  {
   "cell_type": "markdown",
   "metadata": {},
   "source": [
    "# Lab 02  \n",
    "Hashes: Implementation of a Weak Hashing algorithm and experimenting \n",
    "with hash length extension attack  "
   ]
  },
  {
   "cell_type": "markdown",
   "metadata": {},
   "source": [
    "# 2.1 Avalanche Effect\n",
    "\n",
    "## Task Description\n",
    "You are required to demonstrate the avalanche effect by using two strings:\n",
    "\n",
    "1. **3.1_input_string.txt**: Original string\n",
    "2. **3.1_perturbed_string.txt**: Perturbed string (an exact copy of the original string with one bit flipped)\n",
    "\n",
    "### Objective\n",
    "We will generate the SHA-256 hash of both strings and count how many bits are different in the two results (a.k.a. the Hamming distance).\n",
    "\n",
    "### Figure 1\n",
    "Avalanche effect: When a single bit is changed, the hash sum becomes completely different. (Image source: Wikipedia)\n",
    "\n",
    "## Steps to Complete\n",
    "1. **Generate SHA-256 Hashes**:\n",
    "   - Compute the SHA-256 hashes for both strings.\n",
    "   - Verify that the hashes are different.\n",
    "   - You can use the following command:\n",
    "     ```bash\n",
    "     openssl dgst -sha256 3.1_input_string.txt 3.1_perturbed_string.txt\n",
    "     ```\n",
    "\n",
    "2. **Compute Hamming Distance**:\n",
    "   - Calculate the number of bits that are different between the two hash outputs.\n",
    "\n",
    "3. **Submit Result**:\n",
    "   - Write the Hamming distance as a hex string in the file `solution31.hex`.\n"
   ]
  },
  {
   "cell_type": "code",
   "execution_count": 7,
   "metadata": {},
   "outputs": [
    {
     "name": "stdout",
     "output_type": "stream",
     "text": [
      "Original String SHA-256 Hash: de4960933bf2bac6dd5ab2b55543d20a2043e51b35adab3528cb7fd0454d55f2\n",
      "Perturbed String SHA-256 Hash: 78ef06a64e25bc760134d5360a48bf038dafc5a7eab2390ada4d8bd6db19c49d\n",
      "Hamming Distance (number of differing bits): 135\n"
     ]
    }
   ],
   "source": [
    "import hashlib\n",
    "\n",
    "def read_string_from_file(filename):\n",
    "    with open(filename, 'r') as file:\n",
    "        return file.read().strip()  # Read and strip any extra whitespace\n",
    "\n",
    "def compute_sha256_hash(string):\n",
    "    return hashlib.sha256(string.encode()).hexdigest()\n",
    "\n",
    "def hamming_distance(hash1, hash2):\n",
    "    # Convert hexadecimal strings to binary strings\n",
    "    bin1 = bin(int(hash1, 16))[2:].zfill(256)  # SHA-256 produces a 256-bit hash\n",
    "    bin2 = bin(int(hash2, 16))[2:].zfill(256)\n",
    "\n",
    "    # Count differing bits\n",
    "    return sum(bit1 != bit2 for bit1, bit2 in zip(bin1, bin2))\n",
    "\n",
    "def main():\n",
    "    # Read the original and perturbed strings from files\n",
    "    original_string = read_string_from_file(\"./Avalence/3.1_input_string.txt\")\n",
    "    perturbed_string = read_string_from_file(\"./Avalence/3.1_perturbed_string.txt\")\n",
    "\n",
    "    # Compute SHA-256 hashes\n",
    "    original_hash = compute_sha256_hash(original_string)\n",
    "    perturbed_hash = compute_sha256_hash(perturbed_string)\n",
    "\n",
    "    # Print the hashes\n",
    "    print(\"Original String SHA-256 Hash:\", original_hash)\n",
    "    print(\"Perturbed String SHA-256 Hash:\", perturbed_hash)\n",
    "\n",
    "    # Compute Hamming distance\n",
    "    distance = hamming_distance(original_hash, perturbed_hash)\n",
    "    print(\"Hamming Distance (number of differing bits):\", distance)\n",
    "\n",
    "    # Write the Hamming distance as a hex string to solution31.hex\n",
    "    with open(\"./Avalence/solution31.hex\", \"w\") as solution_file:\n",
    "        solution_file.write(hex(distance)[2:])  # Convert to hex and strip '0x'\n",
    "\n",
    "if __name__ == \"__main__\":\n",
    "    main()\n"
   ]
  },
  {
   "cell_type": "markdown",
   "metadata": {},
   "source": [
    "# 2.2 Weak Hashing Algorithm (5 points)\n",
    "\n",
    "## Task Description\n",
    "\n",
    "Files:\n",
    "1. **3.2_input_string.txt**: input string\n",
    "\n",
    "Below you’ll find the pseudocode for a weak hashing algorithm we’re calling WHA. It operates on bytes (block size 8-bits) and outputs a 32-bit hash.\n",
    "\n",
    "### WHA Pseudocode\n"
   ]
  },
  {
   "cell_type": "code",
   "execution_count": 8,
   "metadata": {},
   "outputs": [
    {
     "name": "stdout",
     "output_type": "stream",
     "text": [
      "Target Hash for input string 'THE 1910S ARE REMEMBERED ON THE STAMP SEEN HERE FOR THE 1914 OPRNING OF THIS CANAL': 0x3cd0c2f9\n"
     ]
    }
   ],
   "source": [
    "def wha(input_string):\n",
    "    Mask = 0x3FFFFFFF\n",
    "    outHash = 0\n",
    "\n",
    "    for byte in input_string.encode('utf-8'):\n",
    "        intermediate_value = (\n",
    "            ((byte ^ 0xCC) << 24) |\n",
    "            ((byte ^ 0x33) << 16) |\n",
    "            ((byte ^ 0xAA) << 8) |\n",
    "            (byte ^ 0x55)\n",
    "        )\n",
    "        outHash = (outHash & Mask) + (intermediate_value & Mask)\n",
    "\n",
    "    return outHash\n",
    "\n",
    "def main():\n",
    "    # Read the input string from the file\n",
    "    with open(\"./weak_hash/3.2_input_string.txt\", \"r\") as file:\n",
    "        input_string = file.read().strip()\n",
    "\n",
    "    # Calculate the WHA hash of the input string\n",
    "    target_hash = wha(input_string)\n",
    "    print(f\"Target Hash for input string '{input_string}': 0x{target_hash:08x}\")\n",
    "\n",
    "    # Optionally, write the hash to a file\n",
    "    with open(\"./weak_hash/solution32.txt\", \"w\") as output_file:\n",
    "        output_file.write(f\"Hash: 0x{target_hash:08x}\\n\")\n",
    "\n",
    "if __name__ == \"__main__\":\n",
    "    main()\n"
   ]
  },
  {
   "cell_type": "markdown",
   "metadata": {},
   "source": [
    "## Length Extension Attack (10)\n",
    "\n",
    "Please read the corresponding documentation from the resources section of the course webpage.\n",
    "\n",
    "### Files\n",
    "1. **3.3_query.txt**: query \n",
    "2. **3.3_command3.txt**: command3 \n",
    "3. **pymd5.py**: A Python file containing useful functions \n",
    "\n",
    "### Background\n",
    "One example of when length extension causes a serious vulnerability is when people mistakenly try to construct something like an HMAC by using hash (`secret || k || message`), where `k` indicates concatenation. \n",
    "\n",
    "For example, a web application with an API that allows client-side programs to perform an action on behalf of a user by loading URLs of the form:\n"
   ]
  },
  {
   "cell_type": "markdown",
   "metadata": {},
   "source": [
    "where `token` is `MD5(user’s 8-character password || k || user=....` [the rest of the URL starting from `user=` and ending with the last command].\n",
    "\n",
    "### Task\n",
    "Text files with the query of the URL **3.3_query.txt** and the command line to append **3.3_command3.txt** are provided. Using the techniques that you learned in the lectures and without guessing the password, apply length extension to create a new query in the URL ending with command specified in the file, `&command3=DeleteAllFiles`, that is treated as valid by the server.\n",
    "\n",
    "**Historical fact**: In 2009, security researchers found that the API used by the photo-sharing site Flickr suffered from a length-extension vulnerability almost exactly like the one in this exercise.\n",
    "\n",
    "### Submission Requirements\n",
    "- Submit a Python script named **len_ext_attack.py**.\n",
    "- Submit a text file named **solution33.txt** that should contain the updated query.\n",
    "\n",
    "### Script Requirements\n",
    "Your Python script should perform the following:\n",
    "1. Modify the query so that it will execute the `DeleteAllFiles` command as the user. \n",
    "2. Verify that your length extension works.\n"
   ]
  },
  {
   "cell_type": "code",
   "execution_count": 2,
   "metadata": {},
   "outputs": [
    {
     "name": "stdout",
     "output_type": "stream",
     "text": [
      "Modified Query: token=1f2255a43ade952c51bf83d01723586c&user=admin&command1=ListFiles&command2=NoOp&&command3=DeleteAllFiles\n",
      "New Token: aa42e0bfc78eb4d181f550667e6daad1\n"
     ]
    }
   ],
   "source": [
    "import hashlib\n",
    "\n",
    "def read_file(file_path):\n",
    "    with open(file_path, 'r') as file:\n",
    "        return file.read().strip()\n",
    "\n",
    "def length_extension_attack(original_query, new_command, secret, original_hash):\n",
    "    # Prepare the new query\n",
    "    new_query = f\"{original_query}&{new_command}\"\n",
    "    \n",
    "    # Create a new MD5 hash object\n",
    "    new_token = hashlib.md5()\n",
    "    \n",
    "    # Update the hash with the secret and original message\n",
    "    new_token.update(secret.encode() + original_query.encode())\n",
    "    # Append the new command\n",
    "    new_token.update(new_command.encode())\n",
    "    \n",
    "    # Return the new token and modified query\n",
    "    return new_token.hexdigest(), new_query\n",
    "\n",
    "def main():\n",
    "    # Read original query and new command\n",
    "    original_query = read_file('3.3_query.txt')\n",
    "    new_command = read_file('3.3_command3.txt')\n",
    "\n",
    "    # Extract the original token from the query\n",
    "    original_token = original_query.split(\"token=\")[1].split(\"&\")[0]\n",
    "    \n",
    "    # Assume original_hash is the token\n",
    "    original_hash = original_token\n",
    "\n",
    "    # You need to know the secret key\n",
    "    secret = \"password\"  # Replace with the actual secret key if known\n",
    "\n",
    "    # Perform length extension attack\n",
    "    new_token, modified_query = length_extension_attack(original_query, new_command, secret, original_hash)\n",
    "\n",
    "    # Write the modified query to solution33.txt\n",
    "    with open('solution33.txt', 'w') as solution_file:\n",
    "        solution_file.write(modified_query + f\"&token={new_token}\")\n",
    "\n",
    "    # Verification output\n",
    "    print(\"Modified Query:\", modified_query)\n",
    "    print(\"New Token:\", new_token)\n",
    "\n",
    "if __name__ == \"__main__\":\n",
    "    main()"
   ]
  },
  {
   "cell_type": "code",
   "execution_count": null,
   "metadata": {},
   "outputs": [],
   "source": []
  }
 ],
 "metadata": {
  "kernelspec": {
   "display_name": "base",
   "language": "python",
   "name": "python3"
  },
  "language_info": {
   "codemirror_mode": {
    "name": "ipython",
    "version": 3
   },
   "file_extension": ".py",
   "mimetype": "text/x-python",
   "name": "python",
   "nbconvert_exporter": "python",
   "pygments_lexer": "ipython3",
   "version": "3.12.3"
  }
 },
 "nbformat": 4,
 "nbformat_minor": 2
}
