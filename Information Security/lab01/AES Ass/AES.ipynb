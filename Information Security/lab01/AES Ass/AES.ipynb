{
 "cells": [
  {
   "cell_type": "markdown",
   "metadata": {},
   "source": [
    "# Name :Awais Amajd\n",
    "# Reg. No. :2022cs541"
   ]
  },
  {
   "cell_type": "markdown",
   "metadata": {},
   "source": [
    "# Symmetric Encryption Lab\n",
    "\n",
    "In this lab, you will be writing your own cryptographic library to decrypt a substitution cipher, and using existing cryptographic libraries to experiment with a symmetric encryption called AES and a classic encryption named Caesar cipher.\n",
    "\n",
    "## 1.1 Substitution Cipher (5 points)\n",
    "\n",
    "### Files\n",
    "1. **sub_key.txt**: key  \n",
    "2. **sub_ciphertext.txt**: ciphertext  \n",
    "\n",
    "`sub_key.txt` contains a permutation of the 26 upper-case letters that represents the key for a substitution cipher. Using this key, the ith letter in the alphabet in the plaintext has been replaced by the ith letter in `sub_key.txt` to produce ciphertext in `sub_ciphertext.txt`. \n",
    "\n",
    "For example, if the first three letters in your `sub_key.txt` are `ZDF...`, then:\n",
    "- All **As** in the plaintext have become **Zs** in the ciphertext\n",
    "- All **Bs** have become **Ds**\n",
    "- All **Cs** have become **Fs**.\n",
    "\n",
    "The plaintext we encrypted contains only upper-case letters, numbers, and spaces. Numbers and spaces in the plaintext were not encrypted. They appear exactly as they did in the plaintext.\n",
    "\n",
    "### Task\n",
    "Submit the plaintext, which is obtained using the key in `sub_key.txt` to decrypt `sub_ciphertext.txt`, in the file **solution01.txt**.\n",
    "\n",
    "### Cryptographic Library\n",
    "For the following tasks, we recommend using **PyCrypto**, an open-source crypto library for Python. \n",
    "\n",
    "PyCrypto can be installed using:\n",
    "```bash\n",
    " pip install pycrypto\n"
   ]
  },
  {
   "cell_type": "code",
   "execution_count": 5,
   "metadata": {},
   "outputs": [
    {
     "name": "stdout",
     "output_type": "stream",
     "text": [
      "Decryption complete. Plaintext written to solution01.txt.\n"
     ]
    }
   ],
   "source": [
    "# Step 1: Read the key and ciphertext from the files\n",
    "with open('./substitution/sub_key.txt', 'r') as key_file:\n",
    "    substitution_key = key_file.read().strip()\n",
    "\n",
    "with open('./substitution/sub_ciphertext.txt', 'r') as cipher_file:\n",
    "    ciphertext = cipher_file.read().strip()\n",
    "\n",
    "# Step 2: Create a decryption map\n",
    "alphabet = \"ABCDEFGHIJKLMNOPQRSTUVWXYZ\"\n",
    "decryption_map = {substitution_key[i]: alphabet[i] for i in range(26)}\n",
    "\n",
    "# Step 3: Decrypt the ciphertext\n",
    "plaintext = []\n",
    "for char in ciphertext:\n",
    "    if char in decryption_map:\n",
    "        plaintext.append(decryption_map[char])\n",
    "    else:\n",
    "        plaintext.append(char)  # Leave numbers and spaces unchanged\n",
    "\n",
    "# Join the plaintext list into a string\n",
    "plaintext = ''.join(plaintext)\n",
    "\n",
    "# Step 4: Write the decrypted plaintext to solution01.txt\n",
    "with open('./substitution/solution01.txt', 'w') as output_file:\n",
    "    output_file.write(plaintext)\n",
    "\n",
    "print(\"Decryption complete. Plaintext written to solution01.txt.\")\n"
   ]
  },
  {
   "cell_type": "markdown",
   "metadata": {},
   "source": [
    "# 1.2 AES Encryption (5 points)\n",
    "\n",
    "### Files\n",
    "1. **aes_key.hex**: key  \n",
    "2. **aes_iv.hex**: initialization vector  \n",
    "3. **aes_ciphertext.hex**: ciphertext  \n",
    "\n",
    "`aes_key.hex` contains a 256-bit AES key represented as an ASCII string of hexadecimal values. `aes_iv.hex` contains a 128-bit Initialization Vector (IV) in a similar representation. We encrypted a sentence using **AES in CBC mode** with this key and IV, and wrote the resulting ciphertext (also stored in hexadecimal) in `aes_ciphertext.hex`.\n",
    "\n",
    "### Task\n",
    "Decrypt the ciphertext using the provided information and submit the plaintext in **solution02.txt**.\n"
   ]
  },
  {
   "cell_type": "code",
   "execution_count": 9,
   "metadata": {},
   "outputs": [
    {
     "name": "stdout",
     "output_type": "stream",
     "text": [
      "Decryption complete. Plaintext written to solution02.txt.\n"
     ]
    }
   ],
   "source": [
    "from Crypto.Cipher import AES\n",
    "import binascii\n",
    "\n",
    "# Step 1: Read the key, IV, and ciphertext from the hex files\n",
    "with open('./Aes_Encryption/aes_key.hex', 'r') as key_file:\n",
    "    key_hex = key_file.read().strip()\n",
    "\n",
    "with open('./Aes_Encryption/aes_iv.hex', 'r') as iv_file:\n",
    "    iv_hex = iv_file.read().strip()\n",
    "\n",
    "with open('./Aes_Encryption/aes_ciphertext.hex', 'r') as ciphertext_file:\n",
    "    ciphertext_hex = ciphertext_file.read().strip()\n",
    "\n",
    "# Step 2: Convert hex strings to bytes\n",
    "key = binascii.unhexlify(key_hex)\n",
    "iv = binascii.unhexlify(iv_hex)\n",
    "ciphertext = binascii.unhexlify(ciphertext_hex)\n",
    "\n",
    "# Step 3: Create AES cipher object in CBC mode\n",
    "cipher = AES.new(key, AES.MODE_CBC, iv)\n",
    "\n",
    "# Step 4: Decrypt the ciphertext\n",
    "plaintext = cipher.decrypt(ciphertext)\n",
    "\n",
    "# Step 5: Remove padding (PKCS7 padding is often used with AES in CBC mode)\n",
    "padding_length = plaintext[-1]\n",
    "plaintext = plaintext[:-padding_length]\n",
    "\n",
    "# Step 6: Write the decrypted plaintext to solution02.txt\n",
    "with open('./Aes_Encryption/solution02.txt', 'wb') as solution_file:\n",
    "    solution_file.write(plaintext)\n",
    "\n",
    "print(\"Decryption complete. Plaintext written to solution02.txt.\")\n"
   ]
  },
  {
   "cell_type": "markdown",
   "metadata": {},
   "source": [
    "# 1.3 AES: Breaking A Weak AES Key (5 points)\n",
    "\n",
    "### Files\n",
    "1. **aes_weak_ciphertext.hex**: ciphertext  \n",
    "\n",
    "As with the last task, we encrypted a sentence using **256-bit AES in CBC mode** and stored the result in hexadecimal in the file `aes_weak_ciphertext.hex`. For this task, however, we haven’t supplied the key. \n",
    "\n",
    "All we’ll tell you about the key is that:\n",
    "- It is 256 bits long.\n",
    "- Its **251 most significant (leftmost) bits** are all `0`s.\n",
    "- The initialization vector (IV) was set to all `0`s.\n",
    "\n",
    "### Task\n",
    "First, find all possible plaintexts in the given key space. Then, you will review the plaintexts to find the correct one along with its corresponding key.\n",
    "\n",
    "Submit the **key** of the appropriate plaintext as a hexadecimal string in **Solution03.hex**.\n"
   ]
  },
  {
   "cell_type": "code",
   "execution_count": 7,
   "metadata": {},
   "outputs": [
    {
     "name": "stdout",
     "output_type": "stream",
     "text": [
      "Plaintext: EDMUND RANDOLPH HELPED DRAFT  RATIFY THE CONSTITUTION BEFORE BECOMING THIS MANS ATTORNEY GENERAL\n"
     ]
    }
   ],
   "source": [
    "import binascii\n",
    "from Crypto.Cipher import AES\n",
    "import re\n",
    "\n",
    "# Function to check if the text is English-like\n",
    "def is_english_like(text):\n",
    "    # Simple heuristic to check for English-like text\n",
    "    # A real implementation would be more robust\n",
    "    if not text:\n",
    "        return False\n",
    "    # Check if the text contains a reasonable number of spaces and common English letters\n",
    "    return bool(re.search(r'[A-Z ]', text))\n",
    "\n",
    "def decrypt_and_check(ciphertext_hex, key):\n",
    "    # Create AES cipher in CBC mode with a zeroed IV\n",
    "    cipher = AES.new(key, AES.MODE_CBC, iv=b\"\\x00\" * 16)\n",
    "    # Decrypt the ciphertext\n",
    "    plaintext_bytes = cipher.decrypt(binascii.unhexlify(ciphertext_hex))\n",
    "    \n",
    "    # Try to remove padding (PKCS7 padding)\n",
    "    padding_len = plaintext_bytes[-1]\n",
    "    if 0 < padding_len <= 16:  # AES block size is 16 bytes\n",
    "        plaintext_bytes = plaintext_bytes[:-padding_len]\n",
    "    \n",
    "    try:\n",
    "        # Decode the plaintext bytes to a string\n",
    "        return plaintext_bytes.decode(\"utf-8\")\n",
    "    except UnicodeDecodeError:\n",
    "        # Return empty string if decoding fails\n",
    "        return \"\"\n",
    "\n",
    "def break_weak_aes(ciphertext_hex):\n",
    "    # Generate keys with first 251 bits as zeroes and varying the last byte\n",
    "    key_space = [b\"\\x00\" * 31 + bytes([i]) for i in range(32)]\n",
    "    \n",
    "    for key in key_space:\n",
    "        plaintext = decrypt_and_check(ciphertext_hex, key)\n",
    "        \n",
    "        # Check if the decrypted plaintext resembles English text\n",
    "        if is_english_like(plaintext):\n",
    "            return plaintext, key  # Return both plaintext and key\n",
    "\n",
    "    return None, None  # If no valid plaintext found\n",
    "\n",
    "# Given ciphertext\n",
    "ciphertext_hex = \"3f45b1f996d8e30dc9885ea7f452b5b27682f345e389a04fb4e965e145d06bd711bc2463a00a8b20234e2b8acb200d6298b7d8b8ca7f3b2f8fdc2d5a9e8c0a9fe377ae1c3310fdacc37b0b8e8c692c50c6a8833d15e492a1a67247e785421631\"\n",
    "\n",
    "# Attempt to break the weak AES encryption\n",
    "plaintext, key = break_weak_aes(ciphertext_hex)\n",
    "\n",
    "if plaintext:\n",
    "    print(\"Plaintext:\", plaintext)\n",
    "    # Save the plaintext to a solution file\n",
    "    with open(\"./aes_breaking/solution.txt\", \"w\") as solution_file:\n",
    "        solution_file.write(f\"Plaintext: {plaintext}\\n\")\n",
    "        solution_file.write(f\"Key (in hex): {binascii.hexlify(key).decode()}\\n\")\n",
    "else:\n",
    "    print(\"No valid plaintext found.\")\n"
   ]
  },
  {
   "cell_type": "markdown",
   "metadata": {},
   "source": [
    "# Breaking Caesar Cipher\n",
    "\n",
    "## Task Description\n",
    "Write a program in Python that will decipher a Caesar cipher without knowing the key. Your program must be able to find the key and the correct plaintext without any human intervention.\n",
    "\n",
    "## Requirements\n",
    "- Implement a brute-force method to try all possible shifts (1 to 25).\n",
    "- Analyze the decrypted outputs to determine the most likely plaintext.\n",
    "- The program should automatically identify the key and the plaintext.\n",
    "\n",
    "## Example Implementation\n",
    "Below is an example Python program that accomplishes this task:"
   ]
  },
  {
   "cell_type": "code",
   "execution_count": 10,
   "metadata": {},
   "outputs": [
    {
     "name": "stdout",
     "output_type": "stream",
     "text": [
      "Plaintext: FTQ CGUO WKAG MZQ WKAG YK FTQ BMDW.\n",
      "Key: 1\n"
     ]
    }
   ],
   "source": [
    "import string\n",
    "\n",
    "def caesar_decrypt(ciphertext, shift):\n",
    "    decrypted_text = []\n",
    "    \n",
    "    for char in ciphertext:\n",
    "        if char in string.ascii_uppercase:\n",
    "            # Shift the character and wrap around if necessary\n",
    "            new_char = chr((ord(char) - 65 - shift) % 26 + 65)\n",
    "            decrypted_text.append(new_char)\n",
    "        else:\n",
    "            # If not a letter, keep it as is (numbers, spaces, punctuation)\n",
    "            decrypted_text.append(char)\n",
    "\n",
    "    return ''.join(decrypted_text)\n",
    "\n",
    "def is_english_like(text):\n",
    "    # Check if the text contains a reasonable number of spaces and common English letters\n",
    "    # This is a simple heuristic; a more robust implementation would be better\n",
    "    words = text.split()\n",
    "    num_words = len(words)\n",
    "    if num_words == 0:\n",
    "        return False\n",
    "    num_valid_words = sum(1 for word in words if word.isalpha())\n",
    "    return num_valid_words / num_words > 0.5  # At least 50% valid words\n",
    "\n",
    "def break_caesar(ciphertext):\n",
    "    for shift in range(1, 26):  # Try all possible shifts (1 to 25)\n",
    "        decrypted_text = caesar_decrypt(ciphertext, shift)\n",
    "        if is_english_like(decrypted_text):\n",
    "            return decrypted_text, shift  # Return the likely plaintext and the key\n",
    "\n",
    "    return None, None  # If no valid plaintext found\n",
    "\n",
    "# Example ciphertext\n",
    "ciphertext = \"GUR DHVP XLBH NAR XLBH ZL GUR CNEX.\"  # Example Caesar cipher\n",
    "\n",
    "# Attempt to break the Caesar cipher\n",
    "plaintext, key = break_caesar(ciphertext)\n",
    "\n",
    "if plaintext:\n",
    "    print(\"Plaintext:\", plaintext)\n",
    "    print(\"Key:\", key)\n",
    "else:\n",
    "    print(\"No valid plaintext found.\")\n"
   ]
  },
  {
   "cell_type": "code",
   "execution_count": null,
   "metadata": {},
   "outputs": [],
   "source": []
  }
 ],
 "metadata": {
  "kernelspec": {
   "display_name": "base",
   "language": "python",
   "name": "python3"
  },
  "language_info": {
   "codemirror_mode": {
    "name": "ipython",
    "version": 3
   },
   "file_extension": ".py",
   "mimetype": "text/x-python",
   "name": "python",
   "nbconvert_exporter": "python",
   "pygments_lexer": "ipython3",
   "version": "3.12.3"
  }
 },
 "nbformat": 4,
 "nbformat_minor": 2
}
